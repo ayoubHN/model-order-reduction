{
 "cells": [
  {
   "cell_type": "code",
   "execution_count": null,
   "id": "a957a832",
   "metadata": {},
   "outputs": [],
   "source": [
    "import numpy as np\n",
    "import tensorly as tl\n",
    "\n",
    "def innerprod(tensor1, tensor2):\n",
    "    return np.tensordot(tensor1, tensor2)\n",
    "\n",
    "def DiamPD(V, W, m, K2):\n",
    "    Im = np.zeros((m, m))\n",
    "\n",
    "    for i in range(m):\n",
    "        i1 = slice(i * K2, (i + 1) * K2)\n",
    "        for j in range(m):\n",
    "            j1 = slice(j * K2, (j + 1) * K2)\n",
    "            Im[i, j] = innerprod(V[..., i1], W[..., j1])\n",
    "    \n",
    "    return Im\n"
   ]
  }
 ],
 "metadata": {
  "kernelspec": {
   "display_name": "Python 3 (ipykernel)",
   "language": "python",
   "name": "python3"
  },
  "language_info": {
   "codemirror_mode": {
    "name": "ipython",
    "version": 3
   },
   "file_extension": ".py",
   "mimetype": "text/x-python",
   "name": "python",
   "nbconvert_exporter": "python",
   "pygments_lexer": "ipython3",
   "version": "3.11.5"
  }
 },
 "nbformat": 4,
 "nbformat_minor": 5
}
