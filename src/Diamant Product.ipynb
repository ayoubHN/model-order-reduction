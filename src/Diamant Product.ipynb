{
 "cells": [
  {
   "cell_type": "code",
   "execution_count": 7,
   "id": "83f8997d",
   "metadata": {},
   "outputs": [
    {
     "name": "stdout",
     "output_type": "stream",
     "text": [
      "Overwriting global_requirement.py\n"
     ]
    }
   ],
   "source": [
    "%%writefile global_requirement.py\n",
    "import numpy as np\n",
    "def diamond_product(A, B, p):\n",
    "    sp = A.shape[0]\n",
    "    lp = B.shape[1]\n",
    "    n = A.shape[1]  \n",
    "    s = sp // p\n",
    "    l = lp // p\n",
    "    result = np.zeros((s, l))\n",
    "    # Compute the diamond product\n",
    "    for i in range(s):\n",
    "        for j in range(l):\n",
    "            A_i = A[i*p:(i+1)*p, :]\n",
    "            B_j = B[:, j*p:(j+1)*p]\n",
    "            result[i, j] = np.trace(A_i @ B_j)\n",
    "    return result"
   ]
  },
  {
   "cell_type": "code",
   "execution_count": null,
   "id": "5637b508",
   "metadata": {},
   "outputs": [],
   "source": []
  }
 ],
 "metadata": {
  "kernelspec": {
   "display_name": "Python 3 (ipykernel)",
   "language": "python",
   "name": "python3"
  },
  "language_info": {
   "codemirror_mode": {
    "name": "ipython",
    "version": 3
   },
   "file_extension": ".py",
   "mimetype": "text/x-python",
   "name": "python",
   "nbconvert_exporter": "python",
   "pygments_lexer": "ipython3",
   "version": "3.11.5"
  }
 },
 "nbformat": 4,
 "nbformat_minor": 5
}
