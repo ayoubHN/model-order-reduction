{
 "cells": [
  {
   "cell_type": "code",
   "execution_count": 4,
   "id": "7eae8528",
   "metadata": {},
   "outputs": [
    {
     "name": "stdout",
     "output_type": "stream",
     "text": [
      "Overwriting requirements.py\n"
     ]
    }
   ],
   "source": [
    "%%writefile requirements.py\n",
    "import numpy as np\n",
    "from global_requirement import diamond_product\n",
    "def eteld(j, p, m):\n",
    "    ej = np.zeros((2 * (m + 1) , 1)) \n",
    "    ej[j-1, 0] = 1  \n",
    "    Ip = np.eye(p)\n",
    "    return np.kron(ei, Ip).flatten()"
   ]
  },
  {
   "cell_type": "code",
   "execution_count": null,
   "id": "14196e8a",
   "metadata": {},
   "outputs": [],
   "source": []
  }
 ],
 "metadata": {
  "kernelspec": {
   "display_name": "Python 3 (ipykernel)",
   "language": "python",
   "name": "python3"
  },
  "language_info": {
   "codemirror_mode": {
    "name": "ipython",
    "version": 3
   },
   "file_extension": ".py",
   "mimetype": "text/x-python",
   "name": "python",
   "nbconvert_exporter": "python",
   "pygments_lexer": "ipython3",
   "version": "3.11.5"
  }
 },
 "nbformat": 4,
 "nbformat_minor": 5
}
