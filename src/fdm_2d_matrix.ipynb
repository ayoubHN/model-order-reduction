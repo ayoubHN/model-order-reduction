{
 "cells": [
  {
   "cell_type": "code",
   "execution_count": 1,
   "id": "5578799d",
   "metadata": {},
   "outputs": [
    {
     "name": "stdout",
     "output_type": "stream",
     "text": [
      "Writing numerical_test2.py\n"
     ]
    }
   ],
   "source": [
    "%%writefile numerical_test2.py\n",
    "import numpy as np\n",
    "from scipy import sparse\n",
    "\n",
    "def fdm_2d_matrix(n0, fx_str, fy_str, g_str):\n",
    "    \n",
    "    n2 = n0**2\n",
    "    h = 1.0 / (n0 + 1)\n",
    "    h2 = h**2\n",
    "\n",
    "    t1 = 4.0 / h2\n",
    "    t2 = -1.0 / h2\n",
    "    t3 = 1.0 / (2.0 * h)\n",
    "\n",
    "    I = []\n",
    "    J = []\n",
    "    S = []\n",
    "\n",
    "    for iy in range(n0):\n",
    "        y = (iy + 1) * h\n",
    "        for ix in range(n0):\n",
    "            x = (ix + 1) * h\n",
    "            i = iy * n0 + ix\n",
    "\n",
    "            fxv = eval(fx_str, {'x': x, 'y': y, 'np': np})\n",
    "            fyv = eval(fy_str, {'x': x, 'y': y, 'np': np})\n",
    "            gv = eval(g_str, {'x': x, 'y': y, 'np': np})\n",
    "\n",
    "            if iy > 0:\n",
    "                I.append(i)\n",
    "                J.append(i - n0)\n",
    "                S.append(t2 - fyv * t3)\n",
    "\n",
    "            if ix > 0:\n",
    "                I.append(i)\n",
    "                J.append(i - 1)\n",
    "                S.append(t2 - fxv * t3)\n",
    "\n",
    "            I.append(i)\n",
    "            J.append(i)\n",
    "            S.append(t1 + gv)\n",
    "\n",
    "            if ix < n0 - 1:\n",
    "                I.append(i)\n",
    "                J.append(i + 1)\n",
    "                S.append(t2 + fxv * t3)\n",
    "\n",
    "            if iy < n0 - 1:\n",
    "                I.append(i)\n",
    "                J.append(i + n0)\n",
    "                S.append(t2 + fyv * t3)\n",
    "\n",
    "    I = np.array(I, dtype=int)\n",
    "    J = np.array(J, dtype=int)\n",
    "    S = np.array(S, dtype=float)\n",
    "    A = sparse.coo_matrix((S, (I, J)), shape=(n2, n2))\n",
    "\n",
    "    name = f'FDM-2D: fx={fx_str}; fy={fy_str}; g={g_str}'\n",
    "    return A, name\n"
   ]
  },
  {
   "cell_type": "code",
   "execution_count": null,
   "id": "f58a4b39",
   "metadata": {},
   "outputs": [],
   "source": []
  }
 ],
 "metadata": {
  "kernelspec": {
   "display_name": "Python 3 (ipykernel)",
   "language": "python",
   "name": "python3"
  },
  "language_info": {
   "codemirror_mode": {
    "name": "ipython",
    "version": 3
   },
   "file_extension": ".py",
   "mimetype": "text/x-python",
   "name": "python",
   "nbconvert_exporter": "python",
   "pygments_lexer": "ipython3",
   "version": "3.11.5"
  }
 },
 "nbformat": 4,
 "nbformat_minor": 5
}
