{
 "cells": [
  {
   "cell_type": "code",
   "execution_count": 5,
   "id": "74c1cf43",
   "metadata": {},
   "outputs": [
    {
     "name": "stdout",
     "output_type": "stream",
     "text": [
      "Overwriting numerical_test1.py\n"
     ]
    }
   ],
   "source": [
    "%%writefile numerical_test1.py\n",
    "import numpy as np\n",
    "from scipy import sparse\n",
    "\n",
    "def fdm_matrix1(n0):\n",
    "    # Define the size of the matrix and the step size\n",
    "    n = n0**2\n",
    "    h = 1.0 / (n0 + 1)\n",
    "    h2 = h**2\n",
    "    \n",
    "    # Define the finite difference coefficients\n",
    "    main_diag = 4.0 / h2\n",
    "    off_diag = -1.0 / h2\n",
    "    first_der = 1.0 / (2.0 * h)\n",
    "    \n",
    "    # Preallocate sparse matrix arrays\n",
    "    I = []\n",
    "    J = []\n",
    "    V = []\n",
    "    \n",
    "    for i in range(n0):\n",
    "        for j in range(n0):\n",
    "            index = i * n0 + j  # Row index for the current point\n",
    "            x = (j + 1) * h\n",
    "            y = (i + 1) * h\n",
    "            \n",
    "            # Functions evaluated at grid points\n",
    "            f_val = np.sin(x + 2 * y)\n",
    "            g_val = np.exp(x + y)\n",
    "            h_val = x + y\n",
    "            \n",
    "            # Apply finite difference scheme\n",
    "            # Main diagonal\n",
    "            I.append(index)\n",
    "            J.append(index)\n",
    "            V.append(main_diag - h_val)\n",
    "            \n",
    "            if i > 0:  # Up\n",
    "                I.append(index)\n",
    "                J.append(index - n0)\n",
    "                V.append(off_diag - f_val * first_der)\n",
    "            \n",
    "            if i < n0 - 1:  # Down\n",
    "                I.append(index)\n",
    "                J.append(index + n0)\n",
    "                V.append(off_diag + f_val * first_der)\n",
    "                \n",
    "            if j > 0:  # Left\n",
    "                I.append(index)\n",
    "                J.append(index - 1)\n",
    "                V.append(off_diag - g_val * first_der)\n",
    "                \n",
    "            if j < n0 - 1:  # Right\n",
    "                I.append(index)\n",
    "                J.append(index + 1)\n",
    "                V.append(off_diag + g_val * first_der)\n",
    "                \n",
    "    # Create the sparse matrix\n",
    "    A = sparse.coo_matrix((V, (I, J)), shape=(n, n)).tocsr()\n",
    "    return A"
   ]
  },
  {
   "cell_type": "code",
   "execution_count": null,
   "id": "54ca30ce",
   "metadata": {},
   "outputs": [],
   "source": []
  }
 ],
 "metadata": {
  "kernelspec": {
   "display_name": "Python 3 (ipykernel)",
   "language": "python",
   "name": "python3"
  },
  "language_info": {
   "codemirror_mode": {
    "name": "ipython",
    "version": 3
   },
   "file_extension": ".py",
   "mimetype": "text/x-python",
   "name": "python",
   "nbconvert_exporter": "python",
   "pygments_lexer": "ipython3",
   "version": "3.11.5"
  }
 },
 "nbformat": 4,
 "nbformat_minor": 5
}
