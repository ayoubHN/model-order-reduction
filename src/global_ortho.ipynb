{
 "cells": [
  {
   "cell_type": "code",
   "execution_count": null,
   "id": "9fbcafd3",
   "metadata": {},
   "outputs": [],
   "source": [
    "import numpy as np\n",
    "import tensorly as tl\n",
    "from tensorly.tenalg import mode_dot\n",
    "from tensorly import norm\n",
    "\n",
    "def global_ortho(A, K2):\n",
    "    \n",
    "    V = np.zeros_like(A)\n",
    "    A1 = A[..., :K2]\n",
    "    A2 = A[..., K2:2*K2]\n",
    "\n",
    "    R = np.zeros((2, 2))\n",
    "\n",
    "    R[0, 0] = norm(A1)\n",
    "    Q1 = A1 / R[0, 0]\n",
    "    V[..., :K2] = Q1\n",
    "    Qtilde = A2.copy()\n",
    "    R[0, 2 - 1] = np.tensordot(Q1, Qtilde)\n",
    "    Qtilde -= R[0, 1] * Q1\n",
    "\n",
    "    R[1, 1] = norm(Qtilde)\n",
    "    V[..., K2:2*K2] = Qtilde / R[1, 1]\n",
    "\n",
    "    return V, R"
   ]
  }
 ],
 "metadata": {
  "kernelspec": {
   "display_name": "Python 3 (ipykernel)",
   "language": "python",
   "name": "python3"
  },
  "language_info": {
   "codemirror_mode": {
    "name": "ipython",
    "version": 3
   },
   "file_extension": ".py",
   "mimetype": "text/x-python",
   "name": "python",
   "nbconvert_exporter": "python",
   "pygments_lexer": "ipython3",
   "version": "3.11.5"
  }
 },
 "nbformat": 4,
 "nbformat_minor": 5
}
