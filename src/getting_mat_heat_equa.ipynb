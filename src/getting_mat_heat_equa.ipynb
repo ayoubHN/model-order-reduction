{
 "cells": [
  {
   "cell_type": "code",
   "execution_count": null,
   "id": "aa153b69",
   "metadata": {},
   "outputs": [],
   "source": [
    "import numpy as np\n",
    "import scipy.sparse as sp\n",
    "\n",
    "def getting_mat_heat_equa(h):\n",
    " \n",
    "    c = 1\n",
    "    N = int(1 / h)\n",
    "    t = (h**2 / (4 * c)) / 2\n",
    "    lambda_ = c * t / h**2\n",
    "    \n",
    "    temp = 2 * sp.eye(N, format='csr')\n",
    "    for i in range(N - 1):\n",
    "        temp[i, i + 1] = -1\n",
    "        temp[i + 1, i] = -1\n",
    "    \n",
    "    A = -0.1 * sp.eye(N**2, format='csr') + sp.eye(N**2, format='csr') - (sp.kron(temp, sp.eye(N, format='csr')) + sp.kron(sp.eye(N, format='csr'), temp)) * lambda_\n",
    "    \n",
    "    B = np.zeros((N, N, 1, 1))\n",
    "    C = np.zeros((N, N, 1, 1))\n",
    "    \n",
    "    B[0, 0, 0, 0] = 1\n",
    "    C[0, 0, 0, 0] = 1\n",
    "    \n",
    "    return A, B, C\n"
   ]
  }
 ],
 "metadata": {
  "kernelspec": {
   "display_name": "Python 3 (ipykernel)",
   "language": "python",
   "name": "python3"
  },
  "language_info": {
   "codemirror_mode": {
    "name": "ipython",
    "version": 3
   },
   "file_extension": ".py",
   "mimetype": "text/x-python",
   "name": "python",
   "nbconvert_exporter": "python",
   "pygments_lexer": "ipython3",
   "version": "3.11.5"
  }
 },
 "nbformat": 4,
 "nbformat_minor": 5
}
