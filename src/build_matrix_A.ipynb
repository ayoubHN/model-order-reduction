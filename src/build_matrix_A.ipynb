{
 "cells": [
  {
   "cell_type": "code",
   "execution_count": 2,
   "id": "c5a6568e",
   "metadata": {},
   "outputs": [
    {
     "name": "stdout",
     "output_type": "stream",
     "text": [
      "Writing build_matrix_A.py\n"
     ]
    }
   ],
   "source": [
    "%%writefile build_matrix_A.py\n",
    "import numpy as np\n",
    "from scipy.sparse import diags, kron, eye\n",
    "\n",
    "def build_matrix_A(Nx, Ny):\n",
    "    # Define the grid spacing\n",
    "    hx = 1 / (Nx + 1)\n",
    "    hy = 1 / (Ny + 1)\n",
    "    \n",
    "    # Create a 2D grid of coordinates\n",
    "    x = np.linspace(0, 1, Nx + 2)\n",
    "    y = np.linspace(0, 1, Ny + 2)\n",
    "    X, Y = np.meshgrid(x, y)\n",
    "    \n",
    "    # Coefficients for the PDE\n",
    "    e_xy = np.exp(X * Y)\n",
    "    a = 20 * (X + Y)\n",
    "    b = (X + Y)\n",
    "    c = 1 / (1 + X + Y)\n",
    "    \n",
    "    # The five-point central difference stencil for the second derivative terms\n",
    "    # Compute the coefficients for the central difference approximation\n",
    "    diag_x = e_xy[1:-1, 1:-1].flatten()\n",
    "    diag_y = e_xy[1:-1, 1:-1].T.flatten()\n",
    "    \n",
    "    # Build the 1D laplacians\n",
    "    laplacian_x = diags([diag_x, -2 * diag_x, diag_x], [-1, 0, 1], shape=(Nx, Nx))\n",
    "    laplacian_y = diags([diag_y, -2 * diag_y, diag_y], [-1, 0, 1], shape=(Ny, Ny))\n",
    "    \n",
    "    # Construct the full 2D Laplacian as a Kronecker sum\n",
    "    A_2D = (kron(eye(Ny), laplacian_x) + kron(laplacian_y, eye(Nx))) / (hx * hy)\n",
    "    \n",
    "    # Construct the first derivative terms\n",
    "    # Assuming a 5-point central difference for the first derivative (you'll need to adjust this if not)\n",
    "    first_deriv_x = diags([-a[1:-1, 1:-1].flatten(), a[1:-1, 1:-1].flatten()], [-1, 1], shape=(Nx, Nx))\n",
    "    first_deriv_y = diags([-b[1:-1, 1:-1].T.flatten(), b[1:-1, 1:-1].T.flatten()], [-1, 1], shape=(Ny, Ny))\n",
    "    \n",
    "    # Add the first derivative terms to the 2D Laplacian\n",
    "    A_2D += (kron(eye(Ny), first_deriv_x) + kron(first_deriv_y, eye(Nx))) / 2\n",
    "    \n",
    "    # Add the zeroth-order term\n",
    "    A_2D += diags(c[1:-1, 1:-1].flatten(), 0)\n",
    "    \n",
    "    return A_2D"
   ]
  },
  {
   "cell_type": "code",
   "execution_count": null,
   "id": "a6876670",
   "metadata": {},
   "outputs": [],
   "source": []
  }
 ],
 "metadata": {
  "kernelspec": {
   "display_name": "Python 3 (ipykernel)",
   "language": "python",
   "name": "python3"
  },
  "language_info": {
   "codemirror_mode": {
    "name": "ipython",
    "version": 3
   },
   "file_extension": ".py",
   "mimetype": "text/x-python",
   "name": "python",
   "nbconvert_exporter": "python",
   "pygments_lexer": "ipython3",
   "version": "3.11.5"
  }
 },
 "nbformat": 4,
 "nbformat_minor": 5
}
