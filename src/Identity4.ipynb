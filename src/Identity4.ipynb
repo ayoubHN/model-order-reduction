{
 "cells": [
  {
   "cell_type": "code",
   "execution_count": null,
   "id": "cbc981c7",
   "metadata": {},
   "outputs": [],
   "source": [
    "import numpy as np\n",
    "\n",
    "def sig(a, b):\n",
    "    return 1 if a == b else 0\n",
    "\n",
    "def Identity4(I1, I2, J1, J2):\n",
    "    I = np.zeros((I1, I2, J1, J2))\n",
    "\n",
    "    for i1 in range(I1):\n",
    "        for i2 in range(I2):\n",
    "            for j1 in range(J1):\n",
    "                for j2 in range(J2):\n",
    "                    I[i1, i2, j1, j2] = sig(i1, j1) * sig(i2, j2)\n",
    "\n",
    "    return I\n"
   ]
  }
 ],
 "metadata": {
  "kernelspec": {
   "display_name": "Python 3 (ipykernel)",
   "language": "python",
   "name": "python3"
  },
  "language_info": {
   "codemirror_mode": {
    "name": "ipython",
    "version": 3
   },
   "file_extension": ".py",
   "mimetype": "text/x-python",
   "name": "python",
   "nbconvert_exporter": "python",
   "pygments_lexer": "ipython3",
   "version": "3.11.5"
  }
 },
 "nbformat": 4,
 "nbformat_minor": 5
}
