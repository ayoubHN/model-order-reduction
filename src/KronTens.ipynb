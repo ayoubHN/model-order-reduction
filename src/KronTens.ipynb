{
 "cells": [
  {
   "cell_type": "code",
   "execution_count": null,
   "id": "d169e115",
   "metadata": {},
   "outputs": [],
   "source": [
    "import numpy as np\n",
    "\n",
    "def KronTens(ymm, I4):\n",
    "\n",
    "    K1 = I4.shape[0]\n",
    "    m = ymm.shape[0]\n",
    "    K2 = I4.shape[1]\n",
    "    \n",
    "    resu = np.zeros((K1, m*K2, K1, m*K2))\n",
    "\n",
    "    for i in range(K1):\n",
    "        resu[i, :, i, :] = np.kron(ymm, I4[i, :, i, :])\n",
    "    \n",
    "    return resu\n"
   ]
  }
 ],
 "metadata": {
  "kernelspec": {
   "display_name": "Python 3 (ipykernel)",
   "language": "python",
   "name": "python3"
  },
  "language_info": {
   "codemirror_mode": {
    "name": "ipython",
    "version": 3
   },
   "file_extension": ".py",
   "mimetype": "text/x-python",
   "name": "python",
   "nbconvert_exporter": "python",
   "pygments_lexer": "ipython3",
   "version": "3.11.5"
  }
 },
 "nbformat": 4,
 "nbformat_minor": 5
}
