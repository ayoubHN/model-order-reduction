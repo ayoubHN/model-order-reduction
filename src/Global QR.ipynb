{
 "cells": [
  {
   "cell_type": "code",
   "execution_count": 32,
   "id": "fc4ef678",
   "metadata": {},
   "outputs": [
    {
     "name": "stdout",
     "output_type": "stream",
     "text": [
      "Overwriting global_requirement.py\n"
     ]
    }
   ],
   "source": [
    "%%writefile global_requirement.py\n",
    "from global_requirement import diamond_product\n",
    "import numpy as np\n",
    "def global_qr(Z, r):\n",
    "    Z = Z.astype(np.float64)\n",
    "    n, s = Z.shape\n",
    "    k = s // r\n",
    "    Q = np.zeros_like(Z, dtype=np.float64)\n",
    "    R = np.zeros((k, k), dtype=np.float64)\n",
    "    Z1 = Z[:, :r]\n",
    "    norm_Z1 = np.linalg.norm(Z1, 'fro')\n",
    "    Q[:, :r] = Z1 / norm_Z1\n",
    "    R[0, 0] = norm_Z1\n",
    "    for j in range(1, k): \n",
    "        W = Z[:, j*r:(j+1)*r]\n",
    "\n",
    "        for i in range(j):\n",
    "            Q_i = Q[:, i*r:(i+1)*r]\n",
    "            R[i, j] = np.trace(Q_i.T @ W)\n",
    "            W -= Q_i * R[i, j]\n",
    "        \n",
    "        R_jj = np.linalg.norm(W, 'fro')\n",
    "        if R_jj == 0:\n",
    "            break\n",
    "        Q[:, j*r:(j+1)*r] = W / R_jj\n",
    "        R[j, j] = R_jj\n",
    "\n",
    "    return Q, R\n"
   ]
  },
  {
   "cell_type": "code",
   "execution_count": null,
   "id": "1c540756",
   "metadata": {},
   "outputs": [],
   "source": []
  }
 ],
 "metadata": {
  "kernelspec": {
   "display_name": "Python 3 (ipykernel)",
   "language": "python",
   "name": "python3"
  },
  "language_info": {
   "codemirror_mode": {
    "name": "ipython",
    "version": 3
   },
   "file_extension": ".py",
   "mimetype": "text/x-python",
   "name": "python",
   "nbconvert_exporter": "python",
   "pygments_lexer": "ipython3",
   "version": "3.11.5"
  }
 },
 "nbformat": 4,
 "nbformat_minor": 5
}
